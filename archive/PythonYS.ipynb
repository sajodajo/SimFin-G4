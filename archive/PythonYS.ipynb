{
 "cells": [
  {
   "cell_type": "code",
   "execution_count": 9,
   "id": "f204e5d6-1724-4e13-aaf5-21b6e247be2a",
   "metadata": {},
   "outputs": [],
   "source": [
    "import json\n",
    "import geopandas\n",
    "\n",
    "import numpy as np"
   ]
  },
  {
   "cell_type": "code",
   "execution_count": 48,
   "id": "3accd198-078f-43a4-a156-f50a955407db",
   "metadata": {},
   "outputs": [
    {
     "name": "stdout",
     "output_type": "stream",
     "text": [
      "f480de1a8ca01bf174c769d11b805beab74257efe053299409ab22727ee8e685\n"
     ]
    }
   ],
   "source": [
    "from dotenv import load_dotenv\n",
    "import os\n",
    "\n",
    "from pathlib import Path\n",
    "dotenv_path = Path(\"u.env\")\n",
    "load_dotenv(dotenv_path=dotenv_path)\n",
    "\n",
    "api_token = os.getenv(\"API_KEY\")\n",
    "print(api_token)"
   ]
  },
  {
   "cell_type": "code",
   "execution_count": 76,
   "id": "f9c2964c-50b8-4931-812b-79fcae69c643",
   "metadata": {},
   "outputs": [],
   "source": [
    "#pip install requests pandas zipfile36 tqdm polars\n"
   ]
  },
  {
   "cell_type": "code",
   "execution_count": 50,
   "id": "4dbc7c13-8757-46a4-af0c-74633ae03ad2",
   "metadata": {},
   "outputs": [],
   "source": [
    "import requests\n",
    "import os\n",
    "import zipfile\n",
    "import pandas as pd\n",
    "from tqdm import tqdm\n",
    "\n",
    "# Your SimFin API Key (Replace with your actual API key)\n",
    "API_KEY = \"6d01bb43-687e-47ed-8098-30ba1dec1108\"\n",
    "\n",
    "# SimFin Bulk Download API Endpoint\n",
    "BULK_DOWNLOAD_URL = \"https://simfin.com/api/v2/download-bulk\"\n",
    "\n",
    "# File Paths\n",
    "ZIP_FILE_PATH = \"simfin_bulk_data.zip\"\n",
    "EXTRACT_FOLDER = \"simfin_data\"\n",
    "\n",
    "# Headers for authentication\n",
    "HEADERS = {\n",
    "    \"Authorization\": f\"Bearer {API_KEY}\"\n",
    "}\n"
   ]
  },
  {
   "cell_type": "code",
   "execution_count": 64,
   "id": "59fbb2a6-48db-4191-98bf-a50f791d955b",
   "metadata": {},
   "outputs": [
    {
     "name": "stdout",
     "output_type": "stream",
     "text": [
      "✅ Extracted data to: simfile_data\n"
     ]
    }
   ],
   "source": [
    "import zipfile\n",
    "import os\n",
    "import pandas as pd\n",
    "\n",
    "# Define file paths\n",
    "ZIP_FILE_PATH = \"simfile.zip\"  # Replace with your actual file name\n",
    "EXTRACT_FOLDER = \"simfile_data\"\n",
    "\n",
    "# Extract ZIP file\n",
    "def extract_zip(zip_path, extract_to):\n",
    "    if zipfile.is_zipfile(zip_path):\n",
    "        with zipfile.ZipFile(zip_path, \"r\") as zip_ref:\n",
    "            zip_ref.extractall(extract_to)\n",
    "        print(f\"✅ Extracted data to: {extract_to}\")\n",
    "    else:\n",
    "        print(\"❌ Error: The file is not a valid ZIP. Please check the download.\")\n",
    "\n",
    "# Run extraction\n",
    "extract_zip(ZIP_FILE_PATH, EXTRACT_FOLDER)\n",
    "\n"
   ]
  },
  {
   "cell_type": "code",
   "execution_count": 86,
   "id": "93bcc0d6-6ab0-46a0-9a68-b63691a060d7",
   "metadata": {},
   "outputs": [
    {
     "name": "stdout",
     "output_type": "stream",
     "text": [
      "Current Working Directory: C:\\Users\\hp\\Downloads\\Python\n"
     ]
    }
   ],
   "source": [
    "import os\n",
    "print(\"Current Working Directory:\", os.getcwd())\n"
   ]
  },
  {
   "cell_type": "code",
   "execution_count": 90,
   "id": "422b7189-7cd0-4aec-9ab0-d2a5e4cd77b4",
   "metadata": {},
   "outputs": [],
   "source": [
    "df_prices = pl.read_csv(\"us-shareprices-daily.csv\", separator=\";\")\n",
    "df_companies = pl.read_csv(\"companies.csv\", separator=\";\")\n"
   ]
  },
  {
   "cell_type": "code",
   "execution_count": 94,
   "id": "ac3c22c6-6980-4aa7-9d84-e09baff14798",
   "metadata": {},
   "outputs": [
    {
     "data": {
      "text/html": [
       "<div><style>\n",
       ".dataframe > thead > tr,\n",
       ".dataframe > tbody > tr {\n",
       "  text-align: right;\n",
       "  white-space: pre-wrap;\n",
       "}\n",
       "</style>\n",
       "<small>shape: (5, 11)</small><table border=\"1\" class=\"dataframe\"><thead><tr><th>Ticker</th><th>SimFinId</th><th>Date</th><th>Open</th><th>High</th><th>Low</th><th>Close</th><th>Adj. Close</th><th>Volume</th><th>Dividend</th><th>Shares Outstanding</th></tr><tr><td>str</td><td>i64</td><td>str</td><td>f64</td><td>f64</td><td>f64</td><td>f64</td><td>f64</td><td>i64</td><td>f64</td><td>i64</td></tr></thead><tbody><tr><td>&quot;A&quot;</td><td>45846</td><td>&quot;2019-04-11&quot;</td><td>81.88</td><td>81.92</td><td>80.89</td><td>81.08</td><td>77.87</td><td>1071479</td><td>null</td><td>317515869</td></tr><tr><td>&quot;A&quot;</td><td>45846</td><td>&quot;2019-04-12&quot;</td><td>81.43</td><td>82.06</td><td>80.9</td><td>80.98</td><td>77.77</td><td>1249295</td><td>null</td><td>317515869</td></tr><tr><td>&quot;A&quot;</td><td>45846</td><td>&quot;2019-04-15&quot;</td><td>81.0</td><td>81.13</td><td>79.91</td><td>80.4</td><td>77.22</td><td>1627268</td><td>null</td><td>317515869</td></tr><tr><td>&quot;A&quot;</td><td>45846</td><td>&quot;2019-04-16&quot;</td><td>80.82</td><td>80.96</td><td>77.19</td><td>77.55</td><td>74.48</td><td>3441597</td><td>null</td><td>317515869</td></tr><tr><td>&quot;A&quot;</td><td>45846</td><td>&quot;2019-04-17&quot;</td><td>78.15</td><td>78.32</td><td>74.46</td><td>75.43</td><td>72.44</td><td>4471971</td><td>null</td><td>317515869</td></tr></tbody></table></div>"
      ],
      "text/plain": [
       "shape: (5, 11)\n",
       "┌────────┬──────────┬────────────┬───────┬───┬────────────┬─────────┬──────────┬─────────────┐\n",
       "│ Ticker ┆ SimFinId ┆ Date       ┆ Open  ┆ … ┆ Adj. Close ┆ Volume  ┆ Dividend ┆ Shares      │\n",
       "│ ---    ┆ ---      ┆ ---        ┆ ---   ┆   ┆ ---        ┆ ---     ┆ ---      ┆ Outstanding │\n",
       "│ str    ┆ i64      ┆ str        ┆ f64   ┆   ┆ f64        ┆ i64     ┆ f64      ┆ ---         │\n",
       "│        ┆          ┆            ┆       ┆   ┆            ┆         ┆          ┆ i64         │\n",
       "╞════════╪══════════╪════════════╪═══════╪═══╪════════════╪═════════╪══════════╪═════════════╡\n",
       "│ A      ┆ 45846    ┆ 2019-04-11 ┆ 81.88 ┆ … ┆ 77.87      ┆ 1071479 ┆ null     ┆ 317515869   │\n",
       "│ A      ┆ 45846    ┆ 2019-04-12 ┆ 81.43 ┆ … ┆ 77.77      ┆ 1249295 ┆ null     ┆ 317515869   │\n",
       "│ A      ┆ 45846    ┆ 2019-04-15 ┆ 81.0  ┆ … ┆ 77.22      ┆ 1627268 ┆ null     ┆ 317515869   │\n",
       "│ A      ┆ 45846    ┆ 2019-04-16 ┆ 80.82 ┆ … ┆ 74.48      ┆ 3441597 ┆ null     ┆ 317515869   │\n",
       "│ A      ┆ 45846    ┆ 2019-04-17 ┆ 78.15 ┆ … ┆ 72.44      ┆ 4471971 ┆ null     ┆ 317515869   │\n",
       "└────────┴──────────┴────────────┴───────┴───┴────────────┴─────────┴──────────┴─────────────┘"
      ]
     },
     "execution_count": 94,
     "metadata": {},
     "output_type": "execute_result"
    }
   ],
   "source": [
    "df_prices.head()"
   ]
  },
  {
   "cell_type": "code",
   "execution_count": 96,
   "id": "de3defaf-75da-40f9-a98a-ff0aec7c8b07",
   "metadata": {},
   "outputs": [
    {
     "data": {
      "text/html": [
       "<div><style>\n",
       ".dataframe > thead > tr,\n",
       ".dataframe > tbody > tr {\n",
       "  text-align: right;\n",
       "  white-space: pre-wrap;\n",
       "}\n",
       "</style>\n",
       "<small>shape: (5, 11)</small><table border=\"1\" class=\"dataframe\"><thead><tr><th>Ticker</th><th>SimFinId</th><th>Company Name</th><th>IndustryId</th><th>ISIN</th><th>End of financial year (month)</th><th>Number Employees</th><th>Business Summary</th><th>Market</th><th>CIK</th><th>Main Currency</th></tr><tr><td>str</td><td>i64</td><td>str</td><td>i64</td><td>str</td><td>i64</td><td>i64</td><td>str</td><td>str</td><td>i64</td><td>str</td></tr></thead><tbody><tr><td>null</td><td>17162642</td><td>null</td><td>null</td><td>null</td><td>null</td><td>null</td><td>null</td><td>&quot;us&quot;</td><td>1913577</td><td>&quot;USD&quot;</td></tr><tr><td>null</td><td>17429327</td><td>null</td><td>null</td><td>null</td><td>null</td><td>null</td><td>null</td><td>&quot;us&quot;</td><td>1894951</td><td>&quot;USD&quot;</td></tr><tr><td>null</td><td>17590527</td><td>null</td><td>null</td><td>null</td><td>null</td><td>null</td><td>null</td><td>&quot;us&quot;</td><td>1847355</td><td>&quot;USD&quot;</td></tr><tr><td>null</td><td>17590533</td><td>null</td><td>null</td><td>null</td><td>null</td><td>null</td><td>null</td><td>&quot;us&quot;</td><td>1856161</td><td>&quot;USD&quot;</td></tr><tr><td>null</td><td>17596599</td><td>null</td><td>null</td><td>null</td><td>null</td><td>null</td><td>null</td><td>&quot;us&quot;</td><td>1862463</td><td>&quot;USD&quot;</td></tr></tbody></table></div>"
      ],
      "text/plain": [
       "shape: (5, 11)\n",
       "┌────────┬──────────┬─────────┬────────────┬───┬──────────┬────────┬─────────┬───────────────┐\n",
       "│ Ticker ┆ SimFinId ┆ Company ┆ IndustryId ┆ … ┆ Business ┆ Market ┆ CIK     ┆ Main Currency │\n",
       "│ ---    ┆ ---      ┆ Name    ┆ ---        ┆   ┆ Summary  ┆ ---    ┆ ---     ┆ ---           │\n",
       "│ str    ┆ i64      ┆ ---     ┆ i64        ┆   ┆ ---      ┆ str    ┆ i64     ┆ str           │\n",
       "│        ┆          ┆ str     ┆            ┆   ┆ str      ┆        ┆         ┆               │\n",
       "╞════════╪══════════╪═════════╪════════════╪═══╪══════════╪════════╪═════════╪═══════════════╡\n",
       "│ null   ┆ 17162642 ┆ null    ┆ null       ┆ … ┆ null     ┆ us     ┆ 1913577 ┆ USD           │\n",
       "│ null   ┆ 17429327 ┆ null    ┆ null       ┆ … ┆ null     ┆ us     ┆ 1894951 ┆ USD           │\n",
       "│ null   ┆ 17590527 ┆ null    ┆ null       ┆ … ┆ null     ┆ us     ┆ 1847355 ┆ USD           │\n",
       "│ null   ┆ 17590533 ┆ null    ┆ null       ┆ … ┆ null     ┆ us     ┆ 1856161 ┆ USD           │\n",
       "│ null   ┆ 17596599 ┆ null    ┆ null       ┆ … ┆ null     ┆ us     ┆ 1862463 ┆ USD           │\n",
       "└────────┴──────────┴─────────┴────────────┴───┴──────────┴────────┴─────────┴───────────────┘"
      ]
     },
     "execution_count": 96,
     "metadata": {},
     "output_type": "execute_result"
    }
   ],
   "source": [
    "df_companies.head()"
   ]
  },
  {
   "cell_type": "code",
   "execution_count": 98,
   "id": "4715206f-b255-4879-baf8-d0f51e12f46e",
   "metadata": {},
   "outputs": [],
   "source": [
    "df_prices = df_prices.with_columns(pl.col(\"Date\").str.to_date())\n"
   ]
  },
  {
   "cell_type": "code",
   "execution_count": 100,
   "id": "b85cc0ef-06fc-4649-bbec-e12d69b820d6",
   "metadata": {},
   "outputs": [
    {
     "data": {
      "text/html": [
       "<div><style>\n",
       ".dataframe > thead > tr,\n",
       ".dataframe > tbody > tr {\n",
       "  text-align: right;\n",
       "  white-space: pre-wrap;\n",
       "}\n",
       "</style>\n",
       "<small>shape: (5, 11)</small><table border=\"1\" class=\"dataframe\"><thead><tr><th>Ticker</th><th>SimFinId</th><th>Date</th><th>Open</th><th>High</th><th>Low</th><th>Close</th><th>Adj. Close</th><th>Volume</th><th>Dividend</th><th>Shares Outstanding</th></tr><tr><td>str</td><td>i64</td><td>date</td><td>f64</td><td>f64</td><td>f64</td><td>f64</td><td>f64</td><td>i64</td><td>f64</td><td>i64</td></tr></thead><tbody><tr><td>&quot;A&quot;</td><td>45846</td><td>2019-04-11</td><td>81.88</td><td>81.92</td><td>80.89</td><td>81.08</td><td>77.87</td><td>1071479</td><td>null</td><td>317515869</td></tr><tr><td>&quot;A&quot;</td><td>45846</td><td>2019-04-12</td><td>81.43</td><td>82.06</td><td>80.9</td><td>80.98</td><td>77.77</td><td>1249295</td><td>null</td><td>317515869</td></tr><tr><td>&quot;A&quot;</td><td>45846</td><td>2019-04-15</td><td>81.0</td><td>81.13</td><td>79.91</td><td>80.4</td><td>77.22</td><td>1627268</td><td>null</td><td>317515869</td></tr><tr><td>&quot;A&quot;</td><td>45846</td><td>2019-04-16</td><td>80.82</td><td>80.96</td><td>77.19</td><td>77.55</td><td>74.48</td><td>3441597</td><td>null</td><td>317515869</td></tr><tr><td>&quot;A&quot;</td><td>45846</td><td>2019-04-17</td><td>78.15</td><td>78.32</td><td>74.46</td><td>75.43</td><td>72.44</td><td>4471971</td><td>null</td><td>317515869</td></tr></tbody></table></div>"
      ],
      "text/plain": [
       "shape: (5, 11)\n",
       "┌────────┬──────────┬────────────┬───────┬───┬────────────┬─────────┬──────────┬─────────────┐\n",
       "│ Ticker ┆ SimFinId ┆ Date       ┆ Open  ┆ … ┆ Adj. Close ┆ Volume  ┆ Dividend ┆ Shares      │\n",
       "│ ---    ┆ ---      ┆ ---        ┆ ---   ┆   ┆ ---        ┆ ---     ┆ ---      ┆ Outstanding │\n",
       "│ str    ┆ i64      ┆ date       ┆ f64   ┆   ┆ f64        ┆ i64     ┆ f64      ┆ ---         │\n",
       "│        ┆          ┆            ┆       ┆   ┆            ┆         ┆          ┆ i64         │\n",
       "╞════════╪══════════╪════════════╪═══════╪═══╪════════════╪═════════╪══════════╪═════════════╡\n",
       "│ A      ┆ 45846    ┆ 2019-04-11 ┆ 81.88 ┆ … ┆ 77.87      ┆ 1071479 ┆ null     ┆ 317515869   │\n",
       "│ A      ┆ 45846    ┆ 2019-04-12 ┆ 81.43 ┆ … ┆ 77.77      ┆ 1249295 ┆ null     ┆ 317515869   │\n",
       "│ A      ┆ 45846    ┆ 2019-04-15 ┆ 81.0  ┆ … ┆ 77.22      ┆ 1627268 ┆ null     ┆ 317515869   │\n",
       "│ A      ┆ 45846    ┆ 2019-04-16 ┆ 80.82 ┆ … ┆ 74.48      ┆ 3441597 ┆ null     ┆ 317515869   │\n",
       "│ A      ┆ 45846    ┆ 2019-04-17 ┆ 78.15 ┆ … ┆ 72.44      ┆ 4471971 ┆ null     ┆ 317515869   │\n",
       "└────────┴──────────┴────────────┴───────┴───┴────────────┴─────────┴──────────┴─────────────┘"
      ]
     },
     "execution_count": 100,
     "metadata": {},
     "output_type": "execute_result"
    }
   ],
   "source": [
    "df_prices.head()"
   ]
  },
  {
   "cell_type": "code",
   "execution_count": 102,
   "id": "9ecf3741-72cc-4f1b-b95d-5e19f6dcb7ac",
   "metadata": {},
   "outputs": [],
   "source": [
    "df_prices = df_prices.drop_nulls()  # Remove rows with missing values\n",
    "df_companies = df_companies.drop_nulls()\n"
   ]
  },
  {
   "cell_type": "code",
   "execution_count": 104,
   "id": "2d458b21-1583-44ff-85d3-d7d8360be0a5",
   "metadata": {},
   "outputs": [],
   "source": [
    "df_prices = df_prices.unique()\n",
    "df_companies = df_companies.unique()\n"
   ]
  },
  {
   "cell_type": "code",
   "execution_count": 106,
   "id": "d358811f-b05e-4cf0-84c3-499f35c5e14e",
   "metadata": {},
   "outputs": [],
   "source": [
    "df_merged = df_prices.join(df_companies, on=\"Ticker\", how=\"left\")"
   ]
  },
  {
   "cell_type": "code",
   "execution_count": 108,
   "id": "0f8c8af8-76dc-4748-a077-242ba58f7a08",
   "metadata": {},
   "outputs": [
    {
     "data": {
      "text/html": [
       "<div><style>\n",
       ".dataframe > thead > tr,\n",
       ".dataframe > tbody > tr {\n",
       "  text-align: right;\n",
       "  white-space: pre-wrap;\n",
       "}\n",
       "</style>\n",
       "<small>shape: (5, 21)</small><table border=\"1\" class=\"dataframe\"><thead><tr><th>Ticker</th><th>SimFinId</th><th>Date</th><th>Open</th><th>High</th><th>Low</th><th>Close</th><th>Adj. Close</th><th>Volume</th><th>Dividend</th><th>Shares Outstanding</th><th>SimFinId_right</th><th>Company Name</th><th>IndustryId</th><th>ISIN</th><th>End of financial year (month)</th><th>Number Employees</th><th>Business Summary</th><th>Market</th><th>CIK</th><th>Main Currency</th></tr><tr><td>str</td><td>i64</td><td>date</td><td>f64</td><td>f64</td><td>f64</td><td>f64</td><td>f64</td><td>i64</td><td>f64</td><td>i64</td><td>i64</td><td>str</td><td>i64</td><td>str</td><td>i64</td><td>i64</td><td>str</td><td>str</td><td>i64</td><td>str</td></tr></thead><tbody><tr><td>&quot;BGS&quot;</td><td>327019</td><td>2020-03-30</td><td>16.53</td><td>17.09</td><td>15.92</td><td>16.86</td><td>11.93</td><td>1305846</td><td>0.47</td><td>64120497</td><td>327019</td><td>&quot;B&amp;G Foods, Inc.&quot;</td><td>102002</td><td>&quot;US05508R1068&quot;</td><td>12</td><td>3207</td><td>&quot;B&amp;G Foods Inc processes and se…</td><td>&quot;us&quot;</td><td>1278027</td><td>&quot;USD&quot;</td></tr><tr><td>&quot;CBL&quot;</td><td>10384311</td><td>2022-12-09</td><td>27.34</td><td>27.44</td><td>26.54</td><td>26.71</td><td>23.47</td><td>170691</td><td>2.2</td><td>30973000</td><td>10384311</td><td>&quot;CBL &amp; Associates Properties, I…</td><td>109001</td><td>&quot;US1248308785&quot;</td><td>12</td><td>395</td><td>&quot;Headquartered in Chattanooga, …</td><td>&quot;us&quot;</td><td>910612</td><td>&quot;USD&quot;</td></tr><tr><td>&quot;KMT&quot;</td><td>1234776</td><td>2021-11-08</td><td>38.85</td><td>39.55</td><td>38.76</td><td>39.26</td><td>35.55</td><td>799403</td><td>0.2</td><td>83645026</td><td>1234776</td><td>&quot;KENNAMETAL INC&quot;</td><td>100003</td><td>&quot;US4891701009&quot;</td><td>6</td><td>10000</td><td>&quot;With over 80 years as an indus…</td><td>&quot;us&quot;</td><td>55242</td><td>&quot;USD&quot;</td></tr><tr><td>&quot;CPSI&quot;</td><td>497906</td><td>2019-08-15</td><td>21.84</td><td>22.02</td><td>21.39</td><td>21.52</td><td>21.19</td><td>91200</td><td>0.1</td><td>14355180</td><td>497906</td><td>&quot;Computer Programs &amp; Systems In…</td><td>101003</td><td>&quot;US2053061030&quot;</td><td>12</td><td>2000</td><td>&quot;Computer Programs and Systems …</td><td>&quot;us&quot;</td><td>1169445</td><td>&quot;USD&quot;</td></tr><tr><td>&quot;GSBD&quot;</td><td>10384241</td><td>2022-09-29</td><td>15.24</td><td>15.3</td><td>14.48</td><td>14.6</td><td>10.99</td><td>611939</td><td>0.45</td><td>101970098</td><td>null</td><td>null</td><td>null</td><td>null</td><td>null</td><td>null</td><td>null</td><td>null</td><td>null</td><td>null</td></tr></tbody></table></div>"
      ],
      "text/plain": [
       "shape: (5, 21)\n",
       "┌────────┬──────────┬────────────┬───────┬───┬──────────────────┬────────┬─────────┬───────────────┐\n",
       "│ Ticker ┆ SimFinId ┆ Date       ┆ Open  ┆ … ┆ Business Summary ┆ Market ┆ CIK     ┆ Main Currency │\n",
       "│ ---    ┆ ---      ┆ ---        ┆ ---   ┆   ┆ ---              ┆ ---    ┆ ---     ┆ ---           │\n",
       "│ str    ┆ i64      ┆ date       ┆ f64   ┆   ┆ str              ┆ str    ┆ i64     ┆ str           │\n",
       "╞════════╪══════════╪════════════╪═══════╪═══╪══════════════════╪════════╪═════════╪═══════════════╡\n",
       "│ BGS    ┆ 327019   ┆ 2020-03-30 ┆ 16.53 ┆ … ┆ B&G Foods Inc    ┆ us     ┆ 1278027 ┆ USD           │\n",
       "│        ┆          ┆            ┆       ┆   ┆ processes and    ┆        ┆         ┆               │\n",
       "│        ┆          ┆            ┆       ┆   ┆ se…              ┆        ┆         ┆               │\n",
       "│ CBL    ┆ 10384311 ┆ 2022-12-09 ┆ 27.34 ┆ … ┆ Headquartered in ┆ us     ┆ 910612  ┆ USD           │\n",
       "│        ┆          ┆            ┆       ┆   ┆ Chattanooga, …   ┆        ┆         ┆               │\n",
       "│ KMT    ┆ 1234776  ┆ 2021-11-08 ┆ 38.85 ┆ … ┆ With over 80     ┆ us     ┆ 55242   ┆ USD           │\n",
       "│        ┆          ┆            ┆       ┆   ┆ years as an      ┆        ┆         ┆               │\n",
       "│        ┆          ┆            ┆       ┆   ┆ indus…           ┆        ┆         ┆               │\n",
       "│ CPSI   ┆ 497906   ┆ 2019-08-15 ┆ 21.84 ┆ … ┆ Computer         ┆ us     ┆ 1169445 ┆ USD           │\n",
       "│        ┆          ┆            ┆       ┆   ┆ Programs and     ┆        ┆         ┆               │\n",
       "│        ┆          ┆            ┆       ┆   ┆ Systems …        ┆        ┆         ┆               │\n",
       "│ GSBD   ┆ 10384241 ┆ 2022-09-29 ┆ 15.24 ┆ … ┆ null             ┆ null   ┆ null    ┆ null          │\n",
       "└────────┴──────────┴────────────┴───────┴───┴──────────────────┴────────┴─────────┴───────────────┘"
      ]
     },
     "execution_count": 108,
     "metadata": {},
     "output_type": "execute_result"
    }
   ],
   "source": [
    "df_merged.head()"
   ]
  },
  {
   "cell_type": "raw",
   "id": "2590b17f-021d-4ea8-aa9d-7bb570fafb6e",
   "metadata": {},
   "source": [
    "Feature Engineering\n",
    "We will create:\n",
    "\n",
    "Daily Return (%): (Close - Open) / Open * 100\n",
    "7-Day Moving Average: Close price rolling average.\n",
    "7-Day Volatility: Standard deviation of returns."
   ]
  },
  {
   "cell_type": "code",
   "execution_count": 116,
   "id": "575935e7-b03b-4748-b1bf-d3ecce3983a4",
   "metadata": {},
   "outputs": [
    {
     "name": "stdout",
     "output_type": "stream",
     "text": [
      "shape: (5, 13)\n",
      "┌────────┬──────────┬────────────┬────────┬───┬──────────┬─────────────┬──────────────┬──────┐\n",
      "│ Ticker ┆ SimFinId ┆ Date       ┆ Open   ┆ … ┆ Dividend ┆ Shares      ┆ Daily_Return ┆ MA_7 │\n",
      "│ ---    ┆ ---      ┆ ---        ┆ ---    ┆   ┆ ---      ┆ Outstanding ┆ ---          ┆ ---  │\n",
      "│ str    ┆ i64      ┆ date       ┆ f64    ┆   ┆ f64      ┆ ---         ┆ f64          ┆ f64  │\n",
      "│        ┆          ┆            ┆        ┆   ┆          ┆ i64         ┆              ┆      │\n",
      "╞════════╪══════════╪════════════╪════════╪═══╪══════════╪═════════════╪══════════════╪══════╡\n",
      "│ PDCO   ┆ 196179   ┆ 2019-04-11 ┆ 21.81  ┆ … ┆ 0.26     ┆ 95169000    ┆ -1.375516    ┆ null │\n",
      "│ GD     ┆ 234391   ┆ 2019-04-11 ┆ 168.79 ┆ … ┆ 1.02     ┆ 288871990   ┆ 1.564074     ┆ null │\n",
      "│ BKU    ┆ 815914   ┆ 2019-04-11 ┆ 34.98  ┆ … ┆ 0.21     ┆ 97684854    ┆ -0.028588    ┆ null │\n",
      "│ MEI    ┆ 64377    ┆ 2019-04-11 ┆ 30.19  ┆ … ┆ 0.11     ┆ 36986952    ┆ -1.291818    ┆ null │\n",
      "│ AEO    ┆ 173396   ┆ 2019-04-11 ┆ 21.92  ┆ … ┆ 0.14     ┆ 172584549   ┆ -1.505474    ┆ null │\n",
      "└────────┴──────────┴────────────┴────────┴───┴──────────┴─────────────┴──────────────┴──────┘\n"
     ]
    }
   ],
   "source": [
    "# Daily Return Calculation\n",
    "df_prices = df_prices.with_columns(\n",
    "    ((pl.col(\"Close\") - pl.col(\"Open\")) / pl.col(\"Open\") * 100).alias(\"Daily_Return\")\n",
    ")\n",
    "\n",
    "# Sort Data by Date\n",
    "df_prices = df_prices.sort(\"Date\")\n",
    "\n",
    "# 7-Day Moving Average of Closing Price\n",
    "df_prices = df_prices.with_columns(\n",
    "    pl.col(\"Close\").rolling_mean(window_size=7).alias(\"MA_7\")\n",
    ")\n",
    "\n",
    "print(df_prices.head())  # Validate output\n"
   ]
  },
  {
   "cell_type": "code",
   "execution_count": 112,
   "id": "29158fa7-e2f1-4b97-9c8a-10066636ac51",
   "metadata": {
    "scrolled": true
   },
   "outputs": [
    {
     "name": "stdout",
     "output_type": "stream",
     "text": [
      "['AAPL', 'SGU', 'WYNN', 'SKYW', 'EOG', 'HMST', 'TPX', 'PLBC', 'SHBI', 'HTIBP', 'HE', 'MEI', 'GPS', 'RMCF', 'SCL', 'BF-A', 'CDR', 'FDX', 'OBT', 'LDI', 'BRKS', 'MCD', 'AIZ', 'ES', 'HUM', 'HMNF', 'BSVN', 'SGA', 'LSBK', 'EXR', 'TG', 'AMCR', 'GM', 'TWIN', 'FRST', 'RESI', 'ECA', 'SUM', 'SASR', 'COHN', 'WS', 'GTY', 'PCSB', 'TXRH', 'USEG', 'DXC', 'FLOW', 'COR', 'NPK', 'CL', 'ACN', 'RGP', 'NBR', 'EWBC', 'GDEN', 'HAS', 'BLMN', 'MPWR', 'FMBM', 'NSSC', 'SRLP', 'CF', 'RAVN', 'AA', 'LYB', 'TCPC', 'AWI', 'ADES', 'WD', 'EPSN', 'OPI', 'WCC', 'CPT', 'SAR', 'DOLE', 'CW', 'WTI', 'ACA', 'BJRI', 'PRU', 'CCLP', 'CHMI', 'OXY', 'OGE', 'RTN', 'NYMT', 'CATY', 'FISI', 'PAA', 'BGCP', 'NTST', 'RES', 'SBSI', 'EGBN', 'TUSK', 'VABK', 'PPWLM', 'MDLZ', 'AFCG', 'PPL', 'FLIR', 'CMTL', 'PCB', 'KW', 'GPK', 'GNL', 'WTFC', 'SLRC', 'FGBI', 'VRT', 'CTSH', 'CNBKA', 'OMF', 'AVY', 'LSTR', 'EPR', 'SSIC', 'LAND', 'BBGI', 'BRMK', 'RELX', 'ETR', 'HTGC', 'CHE', 'NOK', 'BRSS', 'LAKE', 'BOTJ', 'CULL', 'ARLP', 'CBOE', 'SB', 'FIBK', 'BSM', 'ICE', 'CAT', 'BKR', 'PVH', 'SC', 'AVB', 'FULT', 'DD', 'OPY', 'ESSA', 'NTES', 'BBSI', 'DKS', 'WSBF', 'UMBF', 'PGR', 'GCMG', 'TEF', 'PANL', 'MLM', 'SNDR', 'DG', 'XRAY', 'PAYC', 'NYT', 'BBBI', 'SPFI', 'BGSF', 'PKG', 'CFBK', 'CLDT', 'CAI', 'PEP', 'HNI', 'GOLF', 'AVA', 'CSGS', 'LFUS', 'NWFL', 'POWI', 'PKI', 'MERC', 'EGP', 'IHC', 'HFBL', 'TIF', 'GL', 'KTB', 'HLT', 'TPG', 'SMID', 'CNXN', 'FNF', 'WTW', 'ONTF', 'GNK', 'AROW', 'KFRC', 'COLM', 'CTS', 'QNBC', 'RWT', 'TRIN', 'DFS', 'PRIM', 'CRI', 'LORL', 'HON', 'ENS', 'FLO', 'BKU', 'NATH', 'HES', 'BSY', 'MFA', 'STWD', 'DOUG', 'ATVI', 'NBN', 'CBT', 'DRH', 'WDFC', 'NHTC', 'CCAP', 'AB', 'HD', 'SELF', 'KSS', 'FLXS', 'WMG', 'PRGS', 'IIIN', 'LCUT', 'IOSP', 'BLX', 'TSLX', 'F', 'FBRT', 'TLYS', 'REVG', 'MU', 'CVBF', 'WDC', 'HCSG', 'NMFC', 'ARCC', 'ARE', 'HAWEL', 'RRR', 'RFP', 'KLIC', 'MBIN', 'VTR', 'INTU', 'NOG', 'HWC', 'OHI', 'GWW', 'KAR', 'BCPC', 'WSFS', 'SPH', 'HOMB', 'INN', 'CHH', 'WELL', 'PLAY', 'TRGP', 'CLX', 'CMCL', 'MAA', 'EVA', 'PROV', 'ULH', 'ARKO', 'CSL', 'SABR', 'CHMG', 'TGLS', 'APD', 'CFR', 'MPW', 'GATX', 'SO', 'MTN', 'INTC', 'ODP', 'KOS', 'TCBK', 'VRS', 'OBNK', 'PSA', 'SLB', 'TMUS', 'JCOM', 'TNL', 'OPOF', 'GFF', 'FCPT', 'FTI_old', 'WH', 'CCL', 'ZTS', 'CCBG', 'FPI', 'SAIC', 'LPG', 'FCFS', 'AKR', 'CHTH', 'CMTG', 'BELFB', 'CC', 'ENLC', 'TGH', 'GPN', 'DGX', 'BHB', 'FHB', 'AMKR', 'PTVE', 'IVZ', 'CCOI', 'PMHG', 'PFBI', 'UPS', 'CATC', 'IR', 'UBFO', 'WEC', 'AMRK', 'HVT', 'CODQL', 'BK', 'KDP', 'TRMD', 'ESRT', 'INVH', 'CQP', 'GHM', 'PFG', 'CME', 'DIT', 'TMP', 'MSI', 'AVGO', 'RVSB', 'DOW', 'MCBC', 'EL', 'TRST', 'LLY', 'CGBD', 'WEBNF', 'MRBK', 'PFHO', 'KAMN', 'NXRT', 'SHOO', 'OVLY', 'SFE', 'PSB', 'BSET', 'DK', 'VVI', 'PCH', 'AIMC', 'TCFC', 'EMBC', 'CABO', 'BHM', 'TWO', 'PEAK', 'NSA', 'FCX', 'AGN_old', 'FMAO', 'AAL', 'CSWI', 'WHG', 'WLKP', 'TMO', 'FWRD', 'NRIM', 'OAK', 'FRO', 'PEBO', 'NOC', 'BDX', 'JMSB', 'MITT', 'MUFG', 'LYTS', 'MXIM', 'PAG', 'KR', 'INFY', 'BVH', 'NFG', 'FSFG', 'CXW', 'VCIG', 'FDUS', 'SCI', 'TESS', 'SHO', 'HDB', 'REXR', 'CPK', 'TRN', 'FITB', 'RCII', 'WIRE', 'SHLX', 'RBA', 'ENBP', 'SEM', 'CVCY', 'CNMD', 'TSBK', 'SRC', 'OLP', 'TRTX', 'FUSB', 'HCOM', 'NTRS', 'REFI', 'CCI', 'JCS', 'TSS', 'USDP', 'CCEL', 'AMGN', 'CRD-A', 'HTLD', 'GTN', 'FIP', 'GWB', 'FLNG', 'RIO', 'MLR', 'DBRG', 'HAFC', 'SOI', 'PKKW', 'ALSK', 'IPG', 'PXD', 'FSS', 'PZZA', 'STR', 'BKNG', 'NL', 'UFCS', 'BEDU', 'TOWR', 'HA', 'EMMS', 'POOL', 'ALC', 'X', 'WING', 'BKE', 'ASIX', 'RMR', 'CPLG', 'PBSV', 'INDB', 'INDT', 'HRZN', 'DEO', 'WMK', 'OMI', 'TGI', 'KALU', 'ELV', 'JNJ', 'NTIP', 'IBCP', 'GSK', 'MN', 'FAST', 'FIS', 'ONEW', 'UG', 'AYI', 'LECO', 'EARN', 'CMRE', 'AWK', 'SNA', 'FRD', 'MRK', 'PK', 'SCCO', 'SAFT', 'BCML', 'PII', 'DHIL', 'NC', 'VAC', 'HPK', 'HPQ', 'OFED', 'JHG', 'BBVA', 'NNN', 'EQIX', 'WELPP', 'BALL', 'RUTH', 'NTAP', 'WRI', 'PAGP', 'FNWD', 'BOCH', 'SSSS', 'PCYG', 'COWN', 'TT', 'PZN', 'EFSC', 'AGI', 'ARES', 'NSC', 'FRT', 'ISBC', 'PRA', 'BANR', 'HNNA', 'CRESY', 'NRP', 'CERN', 'MSEX', 'SACH', 'VHI', 'CHS', 'KA', 'SSB', 'EBSB', 'VLY', 'HSTM', 'EQBK', 'NGHC', 'DHR', 'SAFE', 'CTO', 'IVT', 'VHC', 'NVS', 'PRSP', 'LMST', 'ICFI', 'RRC', 'DRI', 'VFC', 'TPL', 'CE', 'SON', 'LMNX', 'FDS', 'RMBI', 'EVRG', 'RBCAA', 'AY', 'MGP', 'NWN', 'LEG', 'LNN', 'PNR', 'HI', 'DAKT', 'RAND', 'NPO', 'MTDR', 'HY', 'CLB', 'CIT', 'TIVO', 'R', 'RNST', 'ETN', 'HIMX', 'SEE', 'FOX_old', 'WWD', 'VIRC', 'CPA', 'FDP', 'ASB', 'FCAP', 'RCL', 'ABT', 'COTY', 'VRTV', 'VOD', 'FNB', 'GGG', 'CVLY', 'SBCF', 'HAL', 'BFST', 'MO', 'CPTP', 'CBL', 'CCMP', 'CRCT', 'FMC', 'PDLI', 'EBAY', 'FMFG', 'SITC', 'LYG', 'NWG', 'AGM', 'MPAD', 'GS', 'RNGR', 'MANT', 'NVT', 'WLL', 'HSY', 'HQI', 'CZFS', 'AOS', 'LMNR', 'HBT', 'MOG-A', 'FKYS', 'COFS', 'PFLT', 'SOCGP', 'SIGM', 'HNRG', 'TRU', 'MBCN', 'TRVG', 'MMC', 'RTLR', 'CMCSA', 'BLK', 'EIX', 'HWM', 'BRDG', 'PSMT', 'SPOK', 'NATI', 'TNC', 'JNPR', 'CY', 'ABCB', 'EVR', 'CCF', 'KLAC', 'USAC', 'THFF', 'SLFI', 'CVS', 'LBC', 'FHI', 'CXDO', 'PKE', 'MCO', 'UNTY', 'HIW', 'SPR', 'GBLI', 'SYBT', 'MCY', 'UFS', 'AMG', 'STLA', 'OGN', 'ELS', 'OTEX', 'WIT', 'WPG', 'XHR', 'AIN', 'LADR', 'MKTX', 'GLNG', 'DOX', 'NFBK', 'GEHC', 'CHSP', 'MWA', 'AXP', 'AE', 'CSBB', 'VSM', 'BCC', 'TTSH', 'LH', 'DGICA', 'MORN', 'KBAL', 'MDC', 'MUSA', 'BEN', 'FDBC', 'AON', 'K', 'NEM', 'MNSB', 'ITW', 'CFNB', 'JD', 'CBFV', 'CFFI', 'PTRS', 'ZEUS', 'FSBW', 'CRH', 'PDM', 'MPX', 'MOV', 'RBCN', 'FMBH', 'VRE', 'GNE', 'HEP', 'CRAI', 'HPE', 'SVT', 'FCBP', 'SSNC', 'MET', 'HNVR', 'CBKM', 'SXC', 'PFBX', 'PFE', 'G', 'MMM', 'RITM', 'PSEC', 'IVR', 'OMP', 'ETM', 'RYI', 'BCO', 'COHU', 'GEN', 'LLL', 'CWT', 'FCNCA', 'CUBE', 'AJX', 'REYN', 'BPFH', 'GAIN', 'ORI', 'FTI', 'TBNK', 'WHD', 'WMS', 'CAG', 'ELY', 'DX', 'RSG', 'CEG', 'PFS', 'NUVR', 'MNRO', 'COO', 'EXPI', 'EVBN', 'APOG', 'NBTB', 'AMSF', 'PFLC', 'PGC', 'MMI', 'JRSH', 'DNKN', 'STBA', 'RFIL', 'ARMK_old', 'NEU', 'IGT', 'BTCS', 'CSR', 'URI', 'SQFTP', 'JKHY', 'CDRE', 'MAC', 'FBC', 'CORR', 'KFFB', 'CAL', 'AGR', 'CRK', 'AGX', 'AEL', 'BOKF', 'STFC', 'MYE', 'PM', 'ES_old', 'DRE', 'FNHC', 'PHG', 'RBB', 'XYL', 'STRT', 'TLRD', 'NREF', 'USG', 'IBOC', 'ARMK', 'RGA', 'CHDN', 'AUBN', 'POWL', 'CHRW', 'ICMB', 'LAD', 'FHN', 'ABM', 'APO', 'FIHL', 'DALN', 'CHCO', 'KBH', 'CALM', 'JVA', 'ICBK', 'O', 'YUM', 'CODI', 'KNX', 'ARKR', 'PSO', 'BC', 'AEO', 'THG', 'FAF', 'ESS', 'AVLR', 'BHP', 'LKSD', 'MCS', 'HRTG', 'TXO', 'GD', 'COT', 'FLR', 'BORR', 'GLP', 'HMC', 'TKR', 'FELE', 'PRPL', 'NWLI', 'AWR', 'KELYA', 'XEC', 'PROM', 'GLAD', 'ATNI', 'CIVI', 'HWBK', 'NS', 'ARD', 'PTEN', 'HTA', 'COST', 'LEN', 'HBIA', 'GBX', 'KNOP', 'UBCP', 'LFMDP', 'ESAB', 'INT', 'CTXS', 'WU', 'ISTR', 'COKE', 'NLY', 'CNS', 'PWOD', 'OMC', 'PVAC', 'HCKT', 'NAVI', 'QADA', 'SLVM', 'MNR', 'BGS', 'MBI', 'NVDA', 'CLAR', 'PAYX', 'FLEX', 'SSTK', 'MRVL', 'CRM', 'RYAM', 'MIC', 'SAP', 'PWR', 'WAL', 'PATK', 'ADC', 'DAN', 'HONE', 'XEL', 'BX', 'MRTN', 'AIG', 'TPB', 'ALSN', 'DSWL', 'XLNX', 'APH', 'SMBC', 'WFG', 'STSFF', 'CTRE', 'RICK', 'HL', 'PIPR', 'RSKIA', 'XYF', 'PRG', 'NATR', 'IEP', 'CMP', 'PRPH', 'AMPY', 'UWMC', 'KREF', 'PMD', 'KAI', 'AZZ', 'EBF', 'FIX', 'SLM', 'BDC', 'DLB', 'ACIC', 'CMD', 'MDT', 'PBF', 'CAPL', 'COP', 'STC', 'PEGA', 'AEM', 'AMH', 'CIVB', 'UNIT', 'HUBB', 'HBI', 'BCS', 'WEYS', 'SU', 'LUMN', 'CTT', 'BANF', 'LEVL', 'MFIN', 'AVGO_old', 'AVT', 'OLED', 'WOLF', 'CNSL', 'RBNC', 'AVP', 'ALB', 'IRS', 'ACC', 'CPB', 'SWI', 'BRKL', 'ALEX', 'FCCY', 'MDU', 'CFFN', 'MAR', 'OXSQ', 'SCHL', 'STZ', 'IP', 'A', 'AAT', 'HII', 'GPP', 'CION', 'IBM', 'CBSH', 'PACW', 'SAND', 'PCG', 'RTX', 'CZWI', 'PINE', 'CGNX', 'MKTW', 'EGY', 'ONB', 'BALY', 'DE', 'MAN', 'TSQ', 'MNRL', 'OLN', 'VIRT', 'ERIE', 'CRC', 'STLD', 'ET', 'TACO', 'ONL', 'ZYXI', 'TCBC', 'CIX', 'AG', 'TRCY', 'EQR', 'ACRE', 'SD', 'HWKN', 'LNC', 'LPX', 'RRX', 'AUB', 'HOUS', 'APY', 'SBGI', 'ASTE', 'GABC', 'PFSI', 'VNT', 'ALV', 'TILE', 'UNP', 'STAY', 'UBA', 'STRS', 'ALCO', 'RTNTF', 'ESBA', 'AIRS', 'NEN', 'CTAS', 'JBT', 'PB', 'LNKB', 'CDK', 'ANDX', 'FCF', 'ISSC', 'CNHI', 'SPTN', 'IMO', 'WAFD', 'PLPC', 'MIXT', 'EAF', 'KRC', 'PETS', 'PINC', 'AHT', 'RKT', 'TPCO', 'ILPT', 'SIX', 'IBP', 'ARIS', 'BSBR', 'DHI', 'BNL', 'ROST', 'OTTR', 'BWA', 'WTM', 'ESOA', 'PEB', 'VTS', 'WBS', 'EQM', 'SPGI', 'AXS', 'ADTN', 'AJG', 'EPD', 'BOOM', 'LABL', 'WY', 'SPB', 'PAHC', 'CXO', 'RPT', 'MA', 'UI', 'BLKB', 'CVLG', 'TROX', 'CNK', 'ACCO', 'TXT', 'PCTI', 'LCNB', 'TDG', 'EEX', 'GFL', 'CWBC', 'FEIM', 'PBCT', 'BKS', 'BUR', 'SNX', 'SSNT', 'PBI', 'KINS', 'MUR', 'EMN', 'AAP', 'EMR', 'ROL', 'OGS', 'STM', 'SXI', 'UHT', 'ADI', 'MGY', 'RYN', 'TSE', 'JOUT', 'SEVN', 'VSEC', 'UNF', 'CSWC', 'FSK', 'MGPI', 'TRP', 'OFLX', 'SBAC', 'LARK', 'UTMD', 'BVN', 'VRTS', 'OXM', 'MLKN', 'IEX', 'GVA', 'TCS', 'MSA', 'SYF', 'UTL', 'REG', 'WERN', 'PWP', 'GCI', 'BMRC', 'PPSI', 'FLIC', 'KWR', 'BEBE', 'KMI', 'FBK', 'YORW', 'SSL', 'ENTG', 'LOGM', 'NVEC', 'EIG', 'BA', 'ARC', 'NRC', 'BWXT', 'FF', 'FBIZ', 'TXN', 'FCCO', 'FLS', 'CURO', 'CSV', 'EA', 'HFC', 'MTEX', 'RHP', 'GIS', 'ORA', 'MGM', 'BWFG', 'KOP', 'PVBC', 'EGLE', 'WSM', 'PRGO', 'JBGS', 'CAH', 'ROP', 'IIPR', 'MCHP', 'KRG', 'HRB', 'ALOT', 'AEP', 'LVS', 'AMOT', 'TPVG', 'HBAN', 'CHNG', 'PBIP', 'HASI', 'HEES', 'RRBI', 'TW', 'KGC', 'BAFN', 'JBSS', 'RMAX', 'FFIC', 'LTC', 'OSBC', 'HSII', 'PJT', 'UHAL', 'OCSI', 'ASRV', 'UHS', 'H', 'SAN', 'EMP', 'NNI', 'ENSG', 'APLE', 'BGG', 'JACK', 'TEO', 'META', 'CUZ', 'BMO', 'CSX', 'SMMF', 'PKBK', 'VTRS', 'NWL', 'RLI', 'CSTR', 'VMI', 'ALTG', 'DTM', 'TFSL', 'DIS', 'DKL', 'CNXC', 'LII', 'CCNE', 'BANC', 'KNSL', 'VMC', 'ATLO', 'NEP', 'LND', 'ARGO', 'NCMI', 'EVTC', 'PDCO', 'XONE', 'BFH', 'RL', 'PGRE', 'CMC', 'VRSK', 'ATRI', 'CHD', 'SFBC', 'CLR', 'GT', 'MC', 'AGCO', 'IRMD', 'BKH', 'ACR', 'NBL', 'CBIO', 'HXL', 'J', 'POR', 'BSAC', 'NX', 'FFIN', 'IBKC', 'MAIN', 'CZNC', 'CLGX', 'IMMR', 'MSCI', 'OPBK', 'WAB', 'PFSW', 'GRNT', 'NKSH', 'COF', 'QEP', 'MSBI', 'UDR', 'HTBK', 'HP', 'VMW', 'RM', 'AGO', 'TECH', 'FRAF', 'MSM', 'SLP', 'PCAR', 'FXNC', 'BBUC', 'BPOP', 'KSU', 'ENB', 'DINO', 'BY', 'DTE', 'BSRR', 'DAL', 'SOHO', 'FSBC', 'BXMT', 'PLOW', 'SWK', 'UBSI', 'SAMG', 'ORC', 'LRCX', 'HTBI', 'EFC', 'NECB', 'NNBR', 'FERG', 'UNB', 'EBMT', 'DBI', 'SEIC', 'AOMR', 'AVD', 'CI', 'STL', 'PKOH', 'NHI', 'JW-A', 'CVEO', 'SWKS', 'CMTV', 'LRFC', 'FMNB', 'CARR', 'QGEN', 'AMNB', 'CCE', 'MEIP', 'GROW', 'GLW', 'AAME', 'CFG', 'BCSF', 'ROLL', 'RGR', 'AGNC', 'RDUS', 'TSN', 'AIR', 'ADT', 'MGYR', 'EXE', 'HIBB', 'JPM', 'MMP', 'AMAT', 'WES', 'ST', 'SNH', 'III', 'TER', 'SUI', 'WEN', 'USCB', 'HT', 'FMBI', 'PARA', 'VATE', 'ETFC', 'HUBG', 'VICI', 'GES', 'WWW', 'DVN', 'SMLP', 'DOV', 'RS', 'BG', 'DIN', 'BBW', 'EBTC', 'BRBS', 'ALE', 'MSGS', 'GBCI', 'EFSI', 'TTEK', 'ZBH', 'NXST', 'CNA', 'LCII', 'ECL', 'NAT', 'CASH', 'EPRT', 'GE', 'AAIC', 'BAX', 'CNR', 'BGFV', 'RDN', 'INBK', 'EQC', 'BERY', 'PX', 'JBHT', 'WHF', 'ATR', 'MTRN', 'TYPE', 'HPP', 'ORCL', 'FL', 'AZN', 'SWM', 'KHC', 'LXP', 'WBA', 'JUVF', 'RPM', 'TROW', 'METC', 'BUSE', 'WMB', 'SAFM', 'QSR', 'BKTI', 'IBTX', 'AMC', 'ADP', 'STXB', 'FBMS', 'MAS', 'CVI', 'TFX', 'BPL', 'BBWI', 'IRT', 'CHCT', 'TEX', 'MVBF', 'EPC', 'ING', 'MMLP', 'TTE', 'MGRC', 'BRT', 'ESQ', 'UGI', 'CSCO', 'WSO', 'GPJA', 'FCBC', 'PNFP', 'TDW', 'SNV', 'LDOS_old', 'SHW', 'SBT', 'WLK', 'BR', 'VBTX', 'MLI', 'CWH', 'VOYA', 'WSR', 'LAUR', 'LAZ', 'LMAT', 'VINP', 'DCOM', 'PPBI', 'TSCO', 'NEWT', 'MCBS', 'ICL', 'AL', 'AIRTP', 'VLO', 'DPZ', 'BMTC', 'CTVA', 'CCK', 'CINF', 'MSB', 'MMS', 'FRME', 'WSBC', 'SYY', 'BRSP', 'SUN', 'BRO', 'DMLP', 'MSFT', 'PAR', 'FSI', 'NMRK', 'CAC', 'STOR', 'OWL', 'CRGY', 'TUP', 'SFL', 'OSG', 'TRS', 'LAMR', 'ANF', 'FG', 'ENR', 'FR', 'HCA', 'NWS', 'SGC', 'OFC', 'WMT', 'XRX', 'VALU', 'ED', 'FTCO', 'HLIO', 'LKQ', 'BBBY', 'BDL', 'VGR', 'QUAD', 'SF', 'ENBL', 'EBIX', 'SRE', 'MTMT', 'NHC', 'TR', 'ESCA', 'JOAN', 'NGL', 'EXPD', 'JEF', 'SPNS', 'HOG', 'SXT', 'BXP', 'BPRN', 'SWX', 'VVV', 'SFNC', 'UMPQ', 'SAL', 'CTRA', 'TTC', 'AC', 'SPG', 'SM', 'RUSHA', 'KBR', 'BFS', 'HRC', 'TDS', 'PNM', 'GLPI', 'HBCP', 'RC', 'EMC', 'CASY', 'NUE', 'NGVC', 'EWCZ', 'ALLY', 'GWRS', 'IFF', 'TRCO', 'STRA', 'EQT', 'BTU', 'UNTC', 'WFC', 'BYD', 'BIG', 'BOWL', 'FA', 'GECC', 'LPLA', 'CIO', 'AMT', 'MGEE', 'EPM', 'RHI', 'RGLD', 'HFWA', 'DEI', 'MBWM', 'COLD', 'CXP', 'BEP', 'AGN', 'MS', 'UVV', 'BRY', 'DNUT', 'QRTEA', 'LXFR', 'EXP', 'VER', 'TERP', 'TEL', 'ALL', 'BFC', 'SCU', 'AMBP', 'ARCH', 'EBC', 'L', 'ODC', 'CR', 'ALTA', 'KMT', 'FNWB', 'ROK', 'CTRN', 'CEIX', 'EXC', 'SMG', 'NXPI', 'UFPI', 'SFDL', 'LMT', 'AMSWA', 'HEI', 'MANU', 'KRO', 'MDRRP', 'DDS', 'NDAQ', 'HR', 'Y', 'FAT', 'GSHD', 'LEA', 'SFBS', 'DAC', 'ASH', 'HMN', 'CVA', 'PR', 'CATO', 'SBRA', 'AAON', 'GLBZ', 'IRM', 'CPSI', 'IPAR', 'TRNO', 'ETD', 'WRB', 'AMP', 'WST', 'AIT', 'IRDM', 'EVI', 'LINE', 'FTAI', 'CMS', 'ESP', 'KFY', 'KKR', 'RSTRF', 'GNTY', 'LEVI', 'PNNT', 'BMS', 'ESNT', 'ACT', 'LUV', 'SMBK', 'GCBC', 'CCS', 'EVC', 'USLM', 'APA', 'NEE', 'DEA', 'SAVE', 'RWAY', 'USB', 'FNLC', 'EME', 'CMI', 'IHT', 'SMP', 'CULP', 'KMPR', 'VIV', 'BBY', 'NFE', 'NUS', 'GHLD', 'MTB', 'INGR', 'WTS', 'ARTNA', 'FSP', 'MLAB', 'IROQ', 'UAN', 'SEB', 'BFIN', 'ISBA', 'VCTR', 'THPTF', 'DHT', 'SBFG', 'HOFT', 'UVSP', 'ESTE', 'PSTL', 'YOU', 'NI', 'BBDC', 'TPR', 'EXPO', 'PE', 'WABC', 'WTTR', 'CSSE', 'NJR', 'PH', 'WM', 'HRL', 'EHC', 'MED', 'QCRH', 'RA', 'UNH', 'RILY', 'BRX', 'ARCB', 'VZ', 'D', 'TST', 'RATE', 'ALX', 'HUN', 'TRIP', 'LOB', 'ACU', 'ALK', 'TALS', 'MKSI', 'CPF', 'CMA', 'NLCP', 'SLG', 'ACNB', 'VNOM', 'LSI', 'HRI', 'PDCE', 'APAM', 'HTLF', 'WCN', 'HBNC', 'KMB', 'LSI_old', 'LFVN', 'APU', 'AFL', 'CNLPL', 'SCHN', 'GSBD', 'GRMN', 'MXC', 'SIG', 'ETEC', 'TCO', 'ETRN', 'ZION', 'NRG', 'RF', 'NYCB', 'HMY', 'ATO', 'TGNA', 'CWCO', 'ENO', 'OKE', 'STEP', 'WINA', 'AES', 'NE', 'HSBC', 'MCRI', 'ROIC', 'PEBK', 'LW', 'ALG', 'PLD', 'BAC', 'B', 'JWN', 'CONE', 'CNND', 'NP', 'CIK', 'GRA', 'HIG', 'SIGA', 'YUMC', 'RELL', 'GPRE', 'MOS', 'EAI', 'MATX', 'BHR', 'TCBS', 'V', 'MPLX', 'ASO', 'CRWS', 'OEC', 'GOGL', 'LBRT', 'EDUC', 'MRO', 'BMI', 'GHL', 'CNXT', 'HEOL', 'CVGW', 'CLF', 'SNY', 'TJX', 'LZB', 'SJI', 'ARR', 'CAR', 'SBUX', 'FTV', 'EDR', 'PLCE', 'EFX', 'SR', 'SHEN', 'LNG', 'AEIS', 'BDN', 'T', 'BOH', 'MOFG', 'DCP', 'NOV', 'SSD', 'ATEN', 'ESI', 'AJRD', 'MTX', 'OCFC', 'CWEN', 'CVX', 'ACM', 'FBP', 'PEG', 'HMPT', 'SCM', 'JJSF', 'NWBI', 'AVNT', 'VIA', 'PRDO', 'MPB', 'IDA', 'AROC', 'JXN', 'GMRE', 'NOBH', 'AME', 'TTEC', 'FE', 'XOM', 'HCC', 'HOPE', 'AFG', 'GILD', 'PECO', 'NKE', 'CASS', 'CDW', 'OFG', 'EG', 'FREVS', 'VERY', 'RYAN', 'PNW', 'EEI', 'FFBC', 'BUD', 'BHE', 'ABR', 'IMKTA', 'SCS', 'FCRD', 'RRD', 'NLSN', 'EXPE', 'SWBI', 'PAAS', 'GEO', 'BRKR', 'MTH', 'KGS', 'NTIC', 'CRS', 'SKT', 'BCBP', 'LIN', 'GNTX', 'HURC', 'PRK', 'SCHW', 'GSBC', 'PHIN', 'STE', 'PEGI', 'LOAN', 'TFC', 'ABBV', 'KO', 'ARI', 'NOMD', 'SSBK', 'EQH', 'ITIC', 'LANC', 'GOOD', 'UTZ', 'SWCH', 'TM', 'NTB', 'THO', 'HESM', 'SPRT', 'CSPI', 'WWE', 'BPMP', 'DCI', 'ACI', 'GEL', 'STNG', 'LOW', 'SHYF', 'CIM', 'OTIS', 'GPI', 'TNK', 'EMYB', 'CBAN', 'HCI', 'STX', 'SLCA', 'STT', 'CBNK', 'DLX', 'ODFL', 'SVC', 'FFWM', 'VNO', 'TAP', 'QNTO', 'TRTN', 'SSP', 'WTRG', 'WHR', 'TBTC', 'QCOM', 'AEE', 'MTG', 'SESN', 'M', 'JOE', 'IDCC', 'LHX', 'BHLB', 'FFNW', 'WNEB', 'EPAC', 'UNM', 'PTI', 'CBRL', 'FNCB', 'ORRF', 'CMCO', 'KRT', 'PNC', 'CNP', 'TRMK', 'MRLN', 'CLCT', 'SYK', 'CB', 'MRCC', 'TAST', 'KT', 'WTBA', 'SSRM', 'OSK', 'REPX', 'VST', 'EML', 'AMTB', 'LKFN', 'GLT', 'HTH', 'STRW', 'ALRS', 'MDP', 'TEN', 'UE', 'OI', 'JLL', 'GHC', 'LDOS', 'KRNY', 'DNB', 'CRBG', 'APC', 'IBKR', 'BRN', 'SLGN', 'UMH', 'ESE', 'XBIT', 'BSIG', 'TGT', 'TIPT', 'HLI', 'FUN', 'OVV', 'WRE', 'FIZZ', 'VLGEA', 'AIRC', 'CAKE', 'NBHC', 'JCI', 'PLYM', 'DRD', 'LOCO', 'DUK', 'UEPEP', 'RCKY', 'HMLP', 'ALLE', 'GMAN', 'HBB', 'JRVR', 'GPC', 'NSP', 'SJM', 'OC', 'DOC', 'CEQP', 'UVE', 'KEM', 'BTI', 'MACK', 'GORO', 'CSAN', 'HST', 'OFS', 'SUP', 'WPC', 'RJF', 'CNO', 'PRI', 'FUNC', 'KIM', 'AHH', 'OCSL', 'COLB', 'WGO', 'MAXR', 'WDS', 'MKC', 'RLJ', 'FBHS', 'LNT', 'CP', 'ABTX', 'CLPR', 'ASC', 'EAT', 'PPG', 'STAG', 'AILIM', 'FANG', 'AMR', 'OUT', 'ALGT', 'WNC', 'ANDE', 'PTMN', 'SJW', 'OVBC', 'WOR', 'NDSN', 'CCJ', 'WMPN', 'FMCB', 'HLNE', 'FUL', 'TSM', 'TRV', 'USPH', 'AAN', 'JBL', 'C', 'SCVL', 'SATS', 'PHX', 'FOX', 'SIRI', 'AIV', 'PFC', 'MCK', 'BKCC', 'MATW', 'APTV', 'EE_delisted', 'GEF', 'BAH', 'PHM', 'CBU', 'TOL', 'LBAI', 'NWE', 'SAH', 'KEY', 'VSH', 'ATKR', 'FBNC', 'SRCE', 'SEMG', 'DELL', 'PG', 'BMY', 'KRP', 'CNOB', 'ADM', 'SIGI', 'PFIS', 'RNR', 'HAYN', 'AMAL', 'CPHC', 'INSW', 'RMD', 'TWI', 'PSX', 'LOGI', 'IHG', 'RGCO', 'ITT', 'RPRX', 'PAX', 'GRC', 'MPC', 'GBDC']\n"
     ]
    }
   ],
   "source": [
    "company_list = df_prices.select(\"Ticker\").unique().to_series().to_list()\n",
    "print(company_list)  # Check available companies\n"
   ]
  },
  {
   "cell_type": "code",
   "execution_count": 148,
   "id": "b7240895-309e-4db5-ab2d-53d8d7555dcd",
   "metadata": {},
   "outputs": [
    {
     "data": {
      "text/html": [
       "<div><style>\n",
       ".dataframe > thead > tr,\n",
       ".dataframe > tbody > tr {\n",
       "  text-align: right;\n",
       "  white-space: pre-wrap;\n",
       "}\n",
       "</style>\n",
       "<small>shape: (5, 24)</small><table border=\"1\" class=\"dataframe\"><thead><tr><th>Ticker</th><th>SimFinId</th><th>Date</th><th>Open</th><th>High</th><th>Low</th><th>Close</th><th>Adj. Close</th><th>Volume</th><th>Dividend</th><th>Shares Outstanding</th><th>SimFinId_right</th><th>Company Name</th><th>IndustryId</th><th>ISIN</th><th>End of financial year (month)</th><th>Number Employees</th><th>Business Summary</th><th>Market</th><th>CIK</th><th>Main Currency</th><th>Daily_Return</th><th>MA_7</th><th>Volatility_7</th></tr><tr><td>str</td><td>i64</td><td>date</td><td>f64</td><td>f64</td><td>f64</td><td>f64</td><td>f64</td><td>i64</td><td>f64</td><td>i64</td><td>i64</td><td>str</td><td>i64</td><td>str</td><td>i64</td><td>i64</td><td>str</td><td>str</td><td>i64</td><td>str</td><td>f64</td><td>f64</td><td>f64</td></tr></thead><tbody><tr><td>&quot;A&quot;</td><td>45846</td><td>2019-07-01</td><td>75.6</td><td>75.89</td><td>74.92</td><td>75.78</td><td>72.94</td><td>2756169</td><td>0.16</td><td>315993352</td><td>45846</td><td>&quot;AGILENT TECHNOLOGIES INC&quot;</td><td>106001</td><td>&quot;US00846U1016&quot;</td><td>10</td><td>16400</td><td>&quot;Agilent Technologies Inc is en…</td><td>&quot;us&quot;</td><td>1090872</td><td>&quot;USD&quot;</td><td>0.238095</td><td>null</td><td>null</td></tr><tr><td>&quot;A&quot;</td><td>45846</td><td>2019-09-30</td><td>76.37</td><td>77.11</td><td>76.33</td><td>76.63</td><td>73.91</td><td>1713739</td><td>0.16</td><td>309467678</td><td>45846</td><td>&quot;AGILENT TECHNOLOGIES INC&quot;</td><td>106001</td><td>&quot;US00846U1016&quot;</td><td>10</td><td>16400</td><td>&quot;Agilent Technologies Inc is en…</td><td>&quot;us&quot;</td><td>1090872</td><td>&quot;USD&quot;</td><td>0.340448</td><td>null</td><td>null</td></tr><tr><td>&quot;A&quot;</td><td>45846</td><td>2019-12-30</td><td>85.34</td><td>85.4</td><td>84.64</td><td>84.9</td><td>82.06</td><td>742820</td><td>0.18</td><td>310183415</td><td>45846</td><td>&quot;AGILENT TECHNOLOGIES INC&quot;</td><td>106001</td><td>&quot;US00846U1016&quot;</td><td>10</td><td>16400</td><td>&quot;Agilent Technologies Inc is en…</td><td>&quot;us&quot;</td><td>1090872</td><td>&quot;USD&quot;</td><td>-0.515585</td><td>null</td><td>null</td></tr><tr><td>&quot;A&quot;</td><td>45846</td><td>2020-03-30</td><td>71.06</td><td>73.18</td><td>71.06</td><td>72.67</td><td>70.42</td><td>1486203</td><td>0.18</td><td>309651359</td><td>45846</td><td>&quot;AGILENT TECHNOLOGIES INC&quot;</td><td>106001</td><td>&quot;US00846U1016&quot;</td><td>10</td><td>16400</td><td>&quot;Agilent Technologies Inc is en…</td><td>&quot;us&quot;</td><td>1090872</td><td>&quot;USD&quot;</td><td>2.265691</td><td>null</td><td>null</td></tr><tr><td>&quot;A&quot;</td><td>45846</td><td>2020-06-29</td><td>86.56</td><td>87.36</td><td>86.11</td><td>87.29</td><td>84.76</td><td>1302474</td><td>0.18</td><td>308777396</td><td>45846</td><td>&quot;AGILENT TECHNOLOGIES INC&quot;</td><td>106001</td><td>&quot;US00846U1016&quot;</td><td>10</td><td>16400</td><td>&quot;Agilent Technologies Inc is en…</td><td>&quot;us&quot;</td><td>1090872</td><td>&quot;USD&quot;</td><td>0.843346</td><td>null</td><td>null</td></tr></tbody></table></div>"
      ],
      "text/plain": [
       "shape: (5, 24)\n",
       "┌────────┬──────────┬────────────┬───────┬───┬───────────────┬──────────────┬──────┬──────────────┐\n",
       "│ Ticker ┆ SimFinId ┆ Date       ┆ Open  ┆ … ┆ Main Currency ┆ Daily_Return ┆ MA_7 ┆ Volatility_7 │\n",
       "│ ---    ┆ ---      ┆ ---        ┆ ---   ┆   ┆ ---           ┆ ---          ┆ ---  ┆ ---          │\n",
       "│ str    ┆ i64      ┆ date       ┆ f64   ┆   ┆ str           ┆ f64          ┆ f64  ┆ f64          │\n",
       "╞════════╪══════════╪════════════╪═══════╪═══╪═══════════════╪══════════════╪══════╪══════════════╡\n",
       "│ A      ┆ 45846    ┆ 2019-07-01 ┆ 75.6  ┆ … ┆ USD           ┆ 0.238095     ┆ null ┆ null         │\n",
       "│ A      ┆ 45846    ┆ 2019-09-30 ┆ 76.37 ┆ … ┆ USD           ┆ 0.340448     ┆ null ┆ null         │\n",
       "│ A      ┆ 45846    ┆ 2019-12-30 ┆ 85.34 ┆ … ┆ USD           ┆ -0.515585    ┆ null ┆ null         │\n",
       "│ A      ┆ 45846    ┆ 2020-03-30 ┆ 71.06 ┆ … ┆ USD           ┆ 2.265691     ┆ null ┆ null         │\n",
       "│ A      ┆ 45846    ┆ 2020-06-29 ┆ 86.56 ┆ … ┆ USD           ┆ 0.843346     ┆ null ┆ null         │\n",
       "└────────┴──────────┴────────────┴───────┴───┴───────────────┴──────────────┴──────┴──────────────┘"
      ]
     },
     "execution_count": 148,
     "metadata": {},
     "output_type": "execute_result"
    }
   ],
   "source": [
    "df_merged = df_merged.with_columns(\n",
    "    ((pl.col(\"Close\") - pl.col(\"Open\")) / pl.col(\"Open\") * 100).alias(\"Daily_Return\")\n",
    ")\n",
    "\n",
    "# Sort by Ticker and Date before applying rolling functions\n",
    "df_merged = df_merged.sort([\"Ticker\", \"Date\"])\n",
    "\n",
    "# 7-Day Moving Average of Closing Price\n",
    "df_merged = df_merged.with_columns(\n",
    "    pl.col(\"Close\").rolling_mean(window_size=7).over(\"Ticker\").alias(\"MA_7\")\n",
    ")\n",
    "\n",
    "# 7-Day Rolling Standard Deviation (Volatility)\n",
    "df_merged = df_merged.with_columns(\n",
    "    pl.col(\"Daily_Return\").rolling_std(window_size=7).over(\"Ticker\").alias(\"Volatility_7\")\n",
    ")\n",
    "df_merged.head()"
   ]
  },
  {
   "cell_type": "code",
   "execution_count": 150,
   "id": "7050bf24-d5d6-4187-80e6-dfbb9f4e97a0",
   "metadata": {},
   "outputs": [
    {
     "name": "stdout",
     "output_type": "stream",
     "text": [
      "✅ Processed data saved!\n"
     ]
    }
   ],
   "source": [
    "df_merged.write_csv(\"processed_simfin_data.csv\")\n",
    "print(\"✅ Processed data saved!\")\n"
   ]
  },
  {
   "cell_type": "code",
   "execution_count": 152,
   "id": "5da14ff2-c7a6-4669-b006-f5de2b5f0454",
   "metadata": {},
   "outputs": [
    {
     "name": "stdout",
     "output_type": "stream",
     "text": [
      "shape: (1, 24)\n",
      "┌────────┬──────────┬──────┬──────┬───┬───────────────┬──────────────┬───────┬──────────────┐\n",
      "│ Ticker ┆ SimFinId ┆ Date ┆ Open ┆ … ┆ Main Currency ┆ Daily_Return ┆ MA_7  ┆ Volatility_7 │\n",
      "│ ---    ┆ ---      ┆ ---  ┆ ---  ┆   ┆ ---           ┆ ---          ┆ ---   ┆ ---          │\n",
      "│ u32    ┆ u32      ┆ u32  ┆ u32  ┆   ┆ u32           ┆ u32          ┆ u32   ┆ u32          │\n",
      "╞════════╪══════════╪══════╪══════╪═══╪═══════════════╪══════════════╪═══════╪══════════════╡\n",
      "│ 0      ┆ 0        ┆ 0    ┆ 0    ┆ … ┆ 1600          ┆ 0            ┆ 11945 ┆ 11945        │\n",
      "└────────┴──────────┴──────┴──────┴───┴───────────────┴──────────────┴───────┴──────────────┘\n"
     ]
    }
   ],
   "source": [
    "print(df_merged.null_count())  # Check for missing values\n"
   ]
  },
  {
   "cell_type": "code",
   "execution_count": 134,
   "id": "52c65b0e-7f39-45ab-88a0-e884fbc05943",
   "metadata": {},
   "outputs": [],
   "source": [
    "df_merged = df_merged.fill_null(0)  # Replace NaNs with 0\n"
   ]
  },
  {
   "cell_type": "code",
   "execution_count": 154,
   "id": "d3d4fba6-5f76-4ed4-98fd-ce1e7acb7427",
   "metadata": {},
   "outputs": [
    {
     "name": "stdout",
     "output_type": "stream",
     "text": [
      "[String, Int64, Date, Float64, Float64, Float64, Float64, Float64, Int64, Float64, Int64, Int64, String, Int64, String, Int64, Int64, String, String, Int64, String, Float64, Float64, Float64]\n"
     ]
    }
   ],
   "source": [
    "print(df_merged.dtypes)"
   ]
  }
 ],
 "metadata": {
  "kernelspec": {
   "display_name": "Python 3 (ipykernel)",
   "language": "python",
   "name": "python3"
  },
  "language_info": {
   "codemirror_mode": {
    "name": "ipython",
    "version": 3
   },
   "file_extension": ".py",
   "mimetype": "text/x-python",
   "name": "python",
   "nbconvert_exporter": "python",
   "pygments_lexer": "ipython3",
   "version": "3.12.7"
  }
 },
 "nbformat": 4,
 "nbformat_minor": 5
}
